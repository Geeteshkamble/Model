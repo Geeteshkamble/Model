{
 "cells": [
  {
   "cell_type": "code",
   "execution_count": 1,
   "id": "dca0f2e3-9702-437e-a7ce-8bba28870598",
   "metadata": {},
   "outputs": [],
   "source": [
    "# Conversation data\n",
    "conversation = [\n",
    "    {\"speaker\": \"RA\", \"text\": \"नमस्ते श्री कुमार, मैं एक्स वाई जेड फाइनेंस से बोल रहा हूं। आपके लोन के बारे में बात करनी थी।\"},\n",
    "    {\"speaker\": \"B\", \"text\": \"हां, बोलिए। क्या बात है?\"},\n",
    "    {\"speaker\": \"RA\", \"text\": \"सर, आपका पिछले महीने का EMI अभी तक नहीं आया है। क्या कोई समस्या है?\"},\n",
    "    {\"speaker\": \"B\", \"text\": \"हां, थोड़ी दिक्कत है। मेरी नौकरी चली गई है और मैं नया काम ढूंढ रहा हूं।\"},\n",
    "    {\"speaker\": \"RA\", \"text\": \"ओह, यह तो बुरा हुआ। लेकिन सर, आपको समझना होगा कि लोन का भुगतान समय पर करना बहुत जरूरी है।\"},\n",
    "    {\"speaker\": \"B\", \"text\": \"मैं समझता हूं, लेकिन अभी मेरे पास पैसे नहीं हैं। क्या कुछ समय मिल सकता है?\"},\n",
    "    {\"speaker\": \"RA\", \"text\": \"हम समझते हैं आपकी स्थिति। क्या आप अगले हफ्ते तक कुछ भुगतान कर सकते हैं?\"},\n",
    "    {\"speaker\": \"B\", \"text\": \"मैं कोशिश करूंगा, लेकिन पूरा EMI नहीं दे पाऊंगा। क्या आधा भुगतान चलेगा?\"},\n",
    "    {\"speaker\": \"RA\", \"text\": \"ठीक है, आधा भुगतान अगले हफ्ते तक कर दीजिए। बाकी का क्या प्लान है आपका?\"},\n",
    "    {\"speaker\": \"B\", \"text\": \"मुझे उम्मीद है कि अगले महीने तक मुझे नया काम मिल जाएगा। तब मैं बाकी बकाया चुका दूंगा।\"},\n",
    "    {\"speaker\": \"RA\", \"text\": \"ठीक है। तो हम ऐसा करते हैं- आप अगले हफ्ते तक आधा EMI जमा कर दीजिए, और अगले महीने के 15 तारीख तक बाकी का भुगतान कर दीजिए। क्या यह आपको स्वीकार है?\"},\n",
    "    {\"speaker\": \"B\", \"text\": \"हां, यह ठीक रहेगा। मैं इस प्लान का पालन करने की पूरी कोशिश करूंगा।\"},\n",
    "    {\"speaker\": \"RA\", \"text\": \"बहुत अच्छा। मैं आपको एक SMS भेज रहा हूं जिसमें भुगतान की डिटेल्स होंगी। कृपया इसका पालन करें और समय पर भुगतान करें।\"},\n",
    "    {\"speaker\": \"B\", \"text\": \"ठीक है, धन्यवाद आपके समझने के लिए।\"},\n",
    "    {\"speaker\": \"RA\", \"text\": \"आपका स्वागत है। अगर कोई और सवाल हो तो मुझे बताइएगा। अलविदा।\"},\n",
    "    {\"speaker\": \"B\", \"text\": \"अलविदा।\"}\n",
    "]\n"
   ]
  },
  {
   "cell_type": "code",
   "execution_count": 2,
   "id": "e268bc97-59f4-4bcc-ac33-f5b089099606",
   "metadata": {},
   "outputs": [
    {
     "name": "stdout",
     "output_type": "stream",
     "text": [
      "Summary:\n",
      "The conversation is between a recovery agent from XYZ Finance and a borrower named Mr. Kumar. The agent informs Mr. Kumar about an overdue EMI payment. Mr. Kumar explains that he lost his job and is seeking new employment, causing financial difficulties. The agent negotiates a payment plan where Mr. Kumar will pay half of the EMI by next week and the remaining balance by the 15th of the next month. Mr. Kumar agrees to this plan.\n"
     ]
    }
   ],
   "source": [
    "# Summarize the conversation\n",
    "def summarize_conversation(conversation):\n",
    "    summary = \"The conversation is between a recovery agent from XYZ Finance and a borrower named Mr. Kumar. \"\n",
    "    summary += \"The agent informs Mr. Kumar about an overdue EMI payment. Mr. Kumar explains that he lost his job \"\n",
    "    summary += \"and is seeking new employment, causing financial difficulties. The agent negotiates a payment plan \"\n",
    "    summary += \"where Mr. Kumar will pay half of the EMI by next week and the remaining balance by the 15th of the next month. \"\n",
    "    summary += \"Mr. Kumar agrees to this plan.\"\n",
    "    return summary\n",
    "\n",
    "print(\"Summary:\")\n",
    "print(summarize_conversation(conversation))\n"
   ]
  },
  {
   "cell_type": "code",
   "execution_count": 3,
   "id": "73799593-1e25-464e-ac8c-75522780664a",
   "metadata": {},
   "outputs": [
    {
     "name": "stdout",
     "output_type": "stream",
     "text": [
      "\n",
      "Key Actions:\n",
      "- सर, आपका पिछले महीने का EMI अभी तक नहीं आया है। क्या कोई समस्या है?\n",
      "- ओह, यह तो बुरा हुआ। लेकिन सर, आपको समझना होगा कि लोन का भुगतान समय पर करना बहुत जरूरी है।\n",
      "- हम समझते हैं आपकी स्थिति। क्या आप अगले हफ्ते तक कुछ भुगतान कर सकते हैं?\n",
      "- मैं कोशिश करूंगा, लेकिन पूरा EMI नहीं दे पाऊंगा। क्या आधा भुगतान चलेगा?\n",
      "- ठीक है, आधा भुगतान अगले हफ्ते तक कर दीजिए। बाकी का क्या प्लान है आपका?\n",
      "- ठीक है। तो हम ऐसा करते हैं- आप अगले हफ्ते तक आधा EMI जमा कर दीजिए, और अगले महीने के 15 तारीख तक बाकी का भुगतान कर दीजिए। क्या यह आपको स्वीकार है?\n",
      "- बहुत अच्छा। मैं आपको एक SMS भेज रहा हूं जिसमें भुगतान की डिटेल्स होंगी। कृपया इसका पालन करें और समय पर भुगतान करें।\n"
     ]
    }
   ],
   "source": [
    "# Extract key actions from the conversation\n",
    "def extract_actions(conversation):\n",
    "    actions = []\n",
    "    for line in conversation:\n",
    "        if \"EMI\" in line[\"text\"] or \"भुगतान\" in line[\"text\"]:\n",
    "            actions.append(line[\"text\"])\n",
    "    return actions\n",
    "\n",
    "actions = extract_actions(conversation)\n",
    "print(\"\\nKey Actions:\")\n",
    "for action in actions:\n",
    "    print(\"-\", action)\n"
   ]
  },
  {
   "cell_type": "code",
   "execution_count": 4,
   "id": "ad9c4dbe-f15c-4834-823f-71ad323b1612",
   "metadata": {},
   "outputs": [
    {
     "name": "stdout",
     "output_type": "stream",
     "text": [
      "\n",
      "Sentiment Analysis:\n",
      "RA: {'positive': 3, 'negative': 2, 'neutral': 3}\n",
      "B: {'positive': 0, 'negative': 1, 'neutral': 7}\n"
     ]
    }
   ],
   "source": [
    "# Perform basic sentiment analysis\n",
    "def sentiment_analysis(conversation):\n",
    "    sentiments = {\"RA\": {\"positive\": 0, \"negative\": 0, \"neutral\": 0}, \"B\": {\"positive\": 0, \"negative\": 0, \"neutral\": 0}}\n",
    "    positive_keywords = [\"समझते\", \"अच्छा\", \"स्वागत\"]\n",
    "    negative_keywords = [\"समस्या\", \"दिक्कत\", \"बुरा\"]\n",
    "\n",
    "    for line in conversation:\n",
    "        speaker = line[\"speaker\"]\n",
    "        text = line[\"text\"]\n",
    "\n",
    "        if any(word in text for word in positive_keywords):\n",
    "            sentiments[speaker][\"positive\"] += 1\n",
    "        elif any(word in text for word in negative_keywords):\n",
    "            sentiments[speaker][\"negative\"] += 1\n",
    "        else:\n",
    "            sentiments[speaker][\"neutral\"] += 1\n",
    "\n",
    "    return sentiments\n",
    "\n",
    "sentiments = sentiment_analysis(conversation)\n",
    "print(\"\\nSentiment Analysis:\")\n",
    "for speaker, sentiment in sentiments.items():\n",
    "    print(f\"{speaker}: {sentiment}\")\n"
   ]
  },
  {
   "cell_type": "code",
   "execution_count": null,
   "id": "7e21ae5a-9f3c-42e8-b1e1-dddf437acb59",
   "metadata": {},
   "outputs": [],
   "source": []
  }
 ],
 "metadata": {
  "kernelspec": {
   "display_name": "Python 3 (ipykernel)",
   "language": "python",
   "name": "python3"
  },
  "language_info": {
   "codemirror_mode": {
    "name": "ipython",
    "version": 3
   },
   "file_extension": ".py",
   "mimetype": "text/x-python",
   "name": "python",
   "nbconvert_exporter": "python",
   "pygments_lexer": "ipython3",
   "version": "3.11.7"
  }
 },
 "nbformat": 4,
 "nbformat_minor": 5
}
